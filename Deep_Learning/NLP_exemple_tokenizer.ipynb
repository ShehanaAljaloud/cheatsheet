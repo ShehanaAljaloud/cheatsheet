{
  "nbformat": 4,
  "nbformat_minor": 0,
  "metadata": {
    "colab": {
      "name": "NLP_exemple_tokenizer",
      "provenance": [],
      "authorship_tag": "ABX9TyPQgGZ6A4WupjzjNTQ1pQPT",
      "include_colab_link": true
    },
    "kernelspec": {
      "name": "python3",
      "display_name": "Python 3"
    },
    "accelerator": "GPU"
  },
  "cells": [
    {
      "cell_type": "markdown",
      "metadata": {
        "id": "view-in-github",
        "colab_type": "text"
      },
      "source": [
        "<a href=\"https://colab.research.google.com/github/asestini/cheatsheet/blob/master/Deep_Learning/NLP_exemple_tokenizer.ipynb\" target=\"_parent\"><img src=\"https://colab.research.google.com/assets/colab-badge.svg\" alt=\"Open In Colab\"/></a>"
      ]
    },
    {
      "cell_type": "markdown",
      "metadata": {
        "id": "AsDJzO64ZaTC",
        "colab_type": "text"
      },
      "source": [
        "# **How to create a function to tokenize text within list !**\n",
        "\n",
        "Usefull for NLP"
      ]
    },
    {
      "cell_type": "code",
      "metadata": {
        "id": "n93sBeh7-n7L",
        "colab_type": "code",
        "colab": {}
      },
      "source": [
        "import os\n",
        "os.environ['TF_CPP_MIN_LOG_LEVEL'] = '2' # Minimize tensorflow verbose\n",
        "\n",
        "import tensorflow as tf\n",
        "from tensorflow.keras.preprocessing.text import Tokenizer\n",
        "import tensorflow_datasets as tfds\n",
        "import numpy as np\n",
        "from tensorflow.keras.preprocessing.sequence import pad_sequences"
      ],
      "execution_count": 1,
      "outputs": []
    },
    {
      "cell_type": "code",
      "metadata": {
        "id": "tWeaDvJk-uwV",
        "colab_type": "code",
        "colab": {}
      },
      "source": [
        "text_data = [\"A\", \"A\", \"4. Kurt Betschart - Bruno Risi ( Switzerland ) 22\",\n",
        "            \"Israel approves Arafat 's flight to West Bank .\",\n",
        "            \"Moreau takes bronze medal as faster losing semifinalist .\",\n",
        "            \"W D L G / F G / A P\", \"A D L G W\",\n",
        "            \"-- Helsinki newsroom +358 - 0 - 680 50 248\",\n",
        "            \"M'bishi Gas sets terms on 7-year straight .\"]"
      ],
      "execution_count": 2,
      "outputs": []
    },
    {
      "cell_type": "code",
      "metadata": {
        "id": "W99jzWTm-46L",
        "colab_type": "code",
        "colab": {
          "base_uri": "https://localhost:8080/",
          "height": 55
        },
        "outputId": "5cec96a3-ae04-4a75-9a3d-69925c706330"
      },
      "source": [
        "print(text_data)"
      ],
      "execution_count": 8,
      "outputs": [
        {
          "output_type": "stream",
          "text": [
            "['A', 'A', '4. Kurt Betschart - Bruno Risi ( Switzerland ) 22', \"Israel approves Arafat 's flight to West Bank .\", 'Moreau takes bronze medal as faster losing semifinalist .', 'W D L G / F G / A P', 'A D L G W', '-- Helsinki newsroom +358 - 0 - 680 50 248', \"M'bishi Gas sets terms on 7-year straight .\"]\n"
          ],
          "name": "stdout"
        }
      ]
    },
    {
      "cell_type": "code",
      "metadata": {
        "id": "mhwPgJAS-xMk",
        "colab_type": "code",
        "colab": {}
      },
      "source": [
        "def tokenize(txt):\n",
        "  txt_tokenizer = tf.keras.preprocessing.text.Tokenizer(filters='')\n",
        "  txt_tokenizer.fit_on_texts(txt)\n",
        "  tensor = txt_tokenizer.texts_to_sequences(txt)\n",
        "  tensor = tf.keras.preprocessing.sequence.pad_sequences(tensor, padding='post')\n",
        "  #tensor = tf.convert_to_tensor(tensor)\n",
        "  tensor = np.array(tensor)\n",
        "\n",
        "  return tensor, txt_tokenizer"
      ],
      "execution_count": 13,
      "outputs": []
    },
    {
      "cell_type": "code",
      "metadata": {
        "id": "Pwu8wfdVYvRc",
        "colab_type": "code",
        "colab": {}
      },
      "source": [
        "tensor, txt_tokenizer = tokenize(text_data)"
      ],
      "execution_count": 17,
      "outputs": []
    },
    {
      "cell_type": "code",
      "metadata": {
        "id": "2lDdR0SB-0Wr",
        "colab_type": "code",
        "colab": {
          "base_uri": "https://localhost:8080/",
          "height": 178
        },
        "outputId": "08b5ec68-5d03-4376-f8cd-ca1ffa275ef0"
      },
      "source": [
        "tensor"
      ],
      "execution_count": 18,
      "outputs": [
        {
          "output_type": "execute_result",
          "data": {
            "text/plain": [
              "array([[ 1,  0,  0,  0,  0,  0,  0,  0,  0,  0],\n",
              "       [ 1,  0,  0,  0,  0,  0,  0,  0,  0,  0],\n",
              "       [ 9, 10, 11,  2, 12, 13, 14, 15, 16, 17],\n",
              "       [18, 19, 20, 21, 22, 23, 24, 25,  3,  0],\n",
              "       [26, 27, 28, 29, 30, 31, 32, 33,  3,  0],\n",
              "       [ 5,  6,  7,  4,  8, 34,  4,  8,  1, 35],\n",
              "       [ 1,  6,  7,  4,  5,  0,  0,  0,  0,  0],\n",
              "       [36, 37, 38, 39,  2, 40,  2, 41, 42, 43],\n",
              "       [44, 45, 46, 47, 48, 49, 50,  3,  0,  0]], dtype=int32)"
            ]
          },
          "metadata": {
            "tags": []
          },
          "execution_count": 18
        }
      ]
    },
    {
      "cell_type": "code",
      "metadata": {
        "id": "naDekqx0C48s",
        "colab_type": "code",
        "colab": {
          "base_uri": "https://localhost:8080/",
          "height": 35
        },
        "outputId": "772e1323-18a6-4578-e40e-b724eb6070f7"
      },
      "source": [
        "tensor.shape"
      ],
      "execution_count": 19,
      "outputs": [
        {
          "output_type": "execute_result",
          "data": {
            "text/plain": [
              "(9, 10)"
            ]
          },
          "metadata": {
            "tags": []
          },
          "execution_count": 19
        }
      ]
    },
    {
      "cell_type": "code",
      "metadata": {
        "id": "f_0zH9WL_A4c",
        "colab_type": "code",
        "colab": {
          "base_uri": "https://localhost:8080/",
          "height": 178
        },
        "outputId": "42cde53a-8e22-45b3-a40e-031123552c1d"
      },
      "source": [
        "txt_tokenizer.sequences_to_texts(tensor)#.numpy())"
      ],
      "execution_count": 20,
      "outputs": [
        {
          "output_type": "execute_result",
          "data": {
            "text/plain": [
              "['a',\n",
              " 'a',\n",
              " '4. kurt betschart - bruno risi ( switzerland ) 22',\n",
              " \"israel approves arafat 's flight to west bank .\",\n",
              " 'moreau takes bronze medal as faster losing semifinalist .',\n",
              " 'w d l g / f g / a p',\n",
              " 'a d l g w',\n",
              " '-- helsinki newsroom +358 - 0 - 680 50 248',\n",
              " \"m'bishi gas sets terms on 7-year straight .\"]"
            ]
          },
          "metadata": {
            "tags": []
          },
          "execution_count": 20
        }
      ]
    },
    {
      "cell_type": "code",
      "metadata": {
        "id": "uCQUrEAw_PfO",
        "colab_type": "code",
        "colab": {}
      },
      "source": [
        "tf_ds = tf.data.Dataset.from_tensor_slices(tensor).batch(5)"
      ],
      "execution_count": 21,
      "outputs": []
    },
    {
      "cell_type": "code",
      "metadata": {
        "id": "tg1YESqw_o64",
        "colab_type": "code",
        "colab": {
          "base_uri": "https://localhost:8080/",
          "height": 35
        },
        "outputId": "a9d4335b-80ca-479b-e49d-a875268ef42a"
      },
      "source": [
        "tf_ds"
      ],
      "execution_count": 22,
      "outputs": [
        {
          "output_type": "execute_result",
          "data": {
            "text/plain": [
              "<BatchDataset shapes: (None, 10), types: tf.int32>"
            ]
          },
          "metadata": {
            "tags": []
          },
          "execution_count": 22
        }
      ]
    },
    {
      "cell_type": "code",
      "metadata": {
        "id": "Pu-3yvfX_sGG",
        "colab_type": "code",
        "colab": {
          "base_uri": "https://localhost:8080/",
          "height": 106
        },
        "outputId": "2b03729e-467a-4a59-c7a1-86e0f9ccfee1"
      },
      "source": [
        "next(iter(tf_ds.take(1))).numpy()"
      ],
      "execution_count": 23,
      "outputs": [
        {
          "output_type": "execute_result",
          "data": {
            "text/plain": [
              "array([[ 1,  0,  0,  0,  0,  0,  0,  0,  0,  0],\n",
              "       [ 1,  0,  0,  0,  0,  0,  0,  0,  0,  0],\n",
              "       [ 9, 10, 11,  2, 12, 13, 14, 15, 16, 17],\n",
              "       [18, 19, 20, 21, 22, 23, 24, 25,  3,  0],\n",
              "       [26, 27, 28, 29, 30, 31, 32, 33,  3,  0]], dtype=int32)"
            ]
          },
          "metadata": {
            "tags": []
          },
          "execution_count": 23
        }
      ]
    },
    {
      "cell_type": "code",
      "metadata": {
        "id": "Fmi_OxveAanV",
        "colab_type": "code",
        "colab": {
          "base_uri": "https://localhost:8080/",
          "height": 106
        },
        "outputId": "89763e3c-a0ac-4ada-ac98-9bddf975da36"
      },
      "source": [
        "txt_tokenizer.sequences_to_texts(next(iter(tf_ds.take(1))).numpy())"
      ],
      "execution_count": 24,
      "outputs": [
        {
          "output_type": "execute_result",
          "data": {
            "text/plain": [
              "['a',\n",
              " 'a',\n",
              " '4. kurt betschart - bruno risi ( switzerland ) 22',\n",
              " \"israel approves arafat 's flight to west bank .\",\n",
              " 'moreau takes bronze medal as faster losing semifinalist .']"
            ]
          },
          "metadata": {
            "tags": []
          },
          "execution_count": 24
        }
      ]
    },
    {
      "cell_type": "code",
      "metadata": {
        "id": "qDZMVl68A8t9",
        "colab_type": "code",
        "colab": {}
      },
      "source": [
        ""
      ],
      "execution_count": 7,
      "outputs": []
    }
  ]
}